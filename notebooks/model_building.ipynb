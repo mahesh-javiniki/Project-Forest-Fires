{
 "cells": [
  {
   "cell_type": "markdown",
   "id": "3d902c35",
   "metadata": {},
   "source": [
    "<center><h1>Model Building</h1></center>"
   ]
  },
  {
   "cell_type": "code",
   "execution_count": 1,
   "id": "641ae03e",
   "metadata": {},
   "outputs": [],
   "source": [
    "import pandas as pd\n",
    "import matplotlib.pyplot as plt\n",
    "\n",
    "import seaborn as sns"
   ]
  },
  {
   "cell_type": "code",
   "execution_count": 2,
   "id": "6ac10161",
   "metadata": {},
   "outputs": [
    {
     "data": {
      "text/html": [
       "<div>\n",
       "<style scoped>\n",
       "    .dataframe tbody tr th:only-of-type {\n",
       "        vertical-align: middle;\n",
       "    }\n",
       "\n",
       "    .dataframe tbody tr th {\n",
       "        vertical-align: top;\n",
       "    }\n",
       "\n",
       "    .dataframe thead th {\n",
       "        text-align: right;\n",
       "    }\n",
       "</style>\n",
       "<table border=\"1\" class=\"dataframe\">\n",
       "  <thead>\n",
       "    <tr style=\"text-align: right;\">\n",
       "      <th></th>\n",
       "      <th>day</th>\n",
       "      <th>month</th>\n",
       "      <th>year</th>\n",
       "      <th>Temperature</th>\n",
       "      <th>RH</th>\n",
       "      <th>Ws</th>\n",
       "      <th>Rain</th>\n",
       "      <th>FFMC</th>\n",
       "      <th>DMC</th>\n",
       "      <th>DC</th>\n",
       "      <th>ISI</th>\n",
       "      <th>BUI</th>\n",
       "      <th>FWI</th>\n",
       "      <th>Classes</th>\n",
       "      <th>Region</th>\n",
       "    </tr>\n",
       "  </thead>\n",
       "  <tbody>\n",
       "    <tr>\n",
       "      <th>0</th>\n",
       "      <td>1</td>\n",
       "      <td>6</td>\n",
       "      <td>2012</td>\n",
       "      <td>29</td>\n",
       "      <td>57</td>\n",
       "      <td>18</td>\n",
       "      <td>0.0</td>\n",
       "      <td>65.7</td>\n",
       "      <td>3.4</td>\n",
       "      <td>7.6</td>\n",
       "      <td>1.3</td>\n",
       "      <td>3.4</td>\n",
       "      <td>0.5</td>\n",
       "      <td>not fire</td>\n",
       "      <td>0</td>\n",
       "    </tr>\n",
       "    <tr>\n",
       "      <th>1</th>\n",
       "      <td>2</td>\n",
       "      <td>6</td>\n",
       "      <td>2012</td>\n",
       "      <td>29</td>\n",
       "      <td>61</td>\n",
       "      <td>13</td>\n",
       "      <td>1.3</td>\n",
       "      <td>64.4</td>\n",
       "      <td>4.1</td>\n",
       "      <td>7.6</td>\n",
       "      <td>1.0</td>\n",
       "      <td>3.9</td>\n",
       "      <td>0.4</td>\n",
       "      <td>not fire</td>\n",
       "      <td>0</td>\n",
       "    </tr>\n",
       "    <tr>\n",
       "      <th>2</th>\n",
       "      <td>3</td>\n",
       "      <td>6</td>\n",
       "      <td>2012</td>\n",
       "      <td>26</td>\n",
       "      <td>82</td>\n",
       "      <td>22</td>\n",
       "      <td>13.1</td>\n",
       "      <td>47.1</td>\n",
       "      <td>2.5</td>\n",
       "      <td>7.1</td>\n",
       "      <td>0.3</td>\n",
       "      <td>2.7</td>\n",
       "      <td>0.1</td>\n",
       "      <td>not fire</td>\n",
       "      <td>0</td>\n",
       "    </tr>\n",
       "    <tr>\n",
       "      <th>3</th>\n",
       "      <td>4</td>\n",
       "      <td>6</td>\n",
       "      <td>2012</td>\n",
       "      <td>25</td>\n",
       "      <td>89</td>\n",
       "      <td>13</td>\n",
       "      <td>2.5</td>\n",
       "      <td>28.6</td>\n",
       "      <td>1.3</td>\n",
       "      <td>6.9</td>\n",
       "      <td>0.0</td>\n",
       "      <td>1.7</td>\n",
       "      <td>0.0</td>\n",
       "      <td>not fire</td>\n",
       "      <td>0</td>\n",
       "    </tr>\n",
       "    <tr>\n",
       "      <th>4</th>\n",
       "      <td>5</td>\n",
       "      <td>6</td>\n",
       "      <td>2012</td>\n",
       "      <td>27</td>\n",
       "      <td>77</td>\n",
       "      <td>16</td>\n",
       "      <td>0.0</td>\n",
       "      <td>64.8</td>\n",
       "      <td>3.0</td>\n",
       "      <td>14.2</td>\n",
       "      <td>1.2</td>\n",
       "      <td>3.9</td>\n",
       "      <td>0.5</td>\n",
       "      <td>not fire</td>\n",
       "      <td>0</td>\n",
       "    </tr>\n",
       "  </tbody>\n",
       "</table>\n",
       "</div>"
      ],
      "text/plain": [
       "   day  month  year  Temperature  RH  Ws  Rain  FFMC  DMC    DC  ISI  BUI  \\\n",
       "0    1      6  2012           29  57  18   0.0  65.7  3.4   7.6  1.3  3.4   \n",
       "1    2      6  2012           29  61  13   1.3  64.4  4.1   7.6  1.0  3.9   \n",
       "2    3      6  2012           26  82  22  13.1  47.1  2.5   7.1  0.3  2.7   \n",
       "3    4      6  2012           25  89  13   2.5  28.6  1.3   6.9  0.0  1.7   \n",
       "4    5      6  2012           27  77  16   0.0  64.8  3.0  14.2  1.2  3.9   \n",
       "\n",
       "   FWI      Classes  Region  \n",
       "0  0.5  not fire          0  \n",
       "1  0.4  not fire          0  \n",
       "2  0.1  not fire          0  \n",
       "3  0.0  not fire          0  \n",
       "4  0.5  not fire          0  "
      ]
     },
     "execution_count": 2,
     "metadata": {},
     "output_type": "execute_result"
    }
   ],
   "source": [
    "df = pd.read_csv('../data/My_cleaned_Algerian_forest_fires.csv')\n",
    "df.head()"
   ]
  },
  {
   "cell_type": "code",
   "execution_count": 3,
   "id": "07abe2d6",
   "metadata": {},
   "outputs": [
    {
     "data": {
      "text/plain": [
       "Classes\n",
       "fire             131\n",
       "not fire         101\n",
       "fire               4\n",
       "fire               2\n",
       "not fire           2\n",
       "not fire           1\n",
       "not fire           1\n",
       "not fire           1\n",
       "Name: count, dtype: int64"
      ]
     },
     "execution_count": 3,
     "metadata": {},
     "output_type": "execute_result"
    }
   ],
   "source": [
    "df['Classes'].value_counts()"
   ]
  },
  {
   "cell_type": "code",
   "execution_count": 4,
   "id": "5a9a69e3",
   "metadata": {},
   "outputs": [],
   "source": [
    "df['Classes'] = df['Classes'].str.strip()"
   ]
  },
  {
   "cell_type": "code",
   "execution_count": 5,
   "id": "ee95167d",
   "metadata": {},
   "outputs": [
    {
     "data": {
      "text/plain": [
       "Classes\n",
       "fire        137\n",
       "not fire    106\n",
       "Name: count, dtype: int64"
      ]
     },
     "execution_count": 5,
     "metadata": {},
     "output_type": "execute_result"
    }
   ],
   "source": [
    "df['Classes'].value_counts()"
   ]
  },
  {
   "cell_type": "markdown",
   "id": "3f870cd5",
   "metadata": {},
   "source": [
    "Encoding `Classes`"
   ]
  },
  {
   "cell_type": "code",
   "execution_count": 6,
   "id": "2af809e2",
   "metadata": {},
   "outputs": [
    {
     "data": {
      "text/html": [
       "<div>\n",
       "<style scoped>\n",
       "    .dataframe tbody tr th:only-of-type {\n",
       "        vertical-align: middle;\n",
       "    }\n",
       "\n",
       "    .dataframe tbody tr th {\n",
       "        vertical-align: top;\n",
       "    }\n",
       "\n",
       "    .dataframe thead th {\n",
       "        text-align: right;\n",
       "    }\n",
       "</style>\n",
       "<table border=\"1\" class=\"dataframe\">\n",
       "  <thead>\n",
       "    <tr style=\"text-align: right;\">\n",
       "      <th></th>\n",
       "      <th>day</th>\n",
       "      <th>month</th>\n",
       "      <th>Temperature</th>\n",
       "      <th>RH</th>\n",
       "      <th>Ws</th>\n",
       "      <th>Rain</th>\n",
       "      <th>FFMC</th>\n",
       "      <th>DMC</th>\n",
       "      <th>DC</th>\n",
       "      <th>ISI</th>\n",
       "      <th>BUI</th>\n",
       "      <th>FWI</th>\n",
       "      <th>Classes</th>\n",
       "      <th>Region</th>\n",
       "    </tr>\n",
       "  </thead>\n",
       "  <tbody>\n",
       "    <tr>\n",
       "      <th>0</th>\n",
       "      <td>1</td>\n",
       "      <td>6</td>\n",
       "      <td>29</td>\n",
       "      <td>57</td>\n",
       "      <td>18</td>\n",
       "      <td>0.0</td>\n",
       "      <td>65.7</td>\n",
       "      <td>3.4</td>\n",
       "      <td>7.6</td>\n",
       "      <td>1.3</td>\n",
       "      <td>3.4</td>\n",
       "      <td>0.5</td>\n",
       "      <td>0</td>\n",
       "      <td>0</td>\n",
       "    </tr>\n",
       "    <tr>\n",
       "      <th>1</th>\n",
       "      <td>2</td>\n",
       "      <td>6</td>\n",
       "      <td>29</td>\n",
       "      <td>61</td>\n",
       "      <td>13</td>\n",
       "      <td>1.3</td>\n",
       "      <td>64.4</td>\n",
       "      <td>4.1</td>\n",
       "      <td>7.6</td>\n",
       "      <td>1.0</td>\n",
       "      <td>3.9</td>\n",
       "      <td>0.4</td>\n",
       "      <td>0</td>\n",
       "      <td>0</td>\n",
       "    </tr>\n",
       "    <tr>\n",
       "      <th>2</th>\n",
       "      <td>3</td>\n",
       "      <td>6</td>\n",
       "      <td>26</td>\n",
       "      <td>82</td>\n",
       "      <td>22</td>\n",
       "      <td>13.1</td>\n",
       "      <td>47.1</td>\n",
       "      <td>2.5</td>\n",
       "      <td>7.1</td>\n",
       "      <td>0.3</td>\n",
       "      <td>2.7</td>\n",
       "      <td>0.1</td>\n",
       "      <td>0</td>\n",
       "      <td>0</td>\n",
       "    </tr>\n",
       "    <tr>\n",
       "      <th>3</th>\n",
       "      <td>4</td>\n",
       "      <td>6</td>\n",
       "      <td>25</td>\n",
       "      <td>89</td>\n",
       "      <td>13</td>\n",
       "      <td>2.5</td>\n",
       "      <td>28.6</td>\n",
       "      <td>1.3</td>\n",
       "      <td>6.9</td>\n",
       "      <td>0.0</td>\n",
       "      <td>1.7</td>\n",
       "      <td>0.0</td>\n",
       "      <td>0</td>\n",
       "      <td>0</td>\n",
       "    </tr>\n",
       "    <tr>\n",
       "      <th>4</th>\n",
       "      <td>5</td>\n",
       "      <td>6</td>\n",
       "      <td>27</td>\n",
       "      <td>77</td>\n",
       "      <td>16</td>\n",
       "      <td>0.0</td>\n",
       "      <td>64.8</td>\n",
       "      <td>3.0</td>\n",
       "      <td>14.2</td>\n",
       "      <td>1.2</td>\n",
       "      <td>3.9</td>\n",
       "      <td>0.5</td>\n",
       "      <td>0</td>\n",
       "      <td>0</td>\n",
       "    </tr>\n",
       "  </tbody>\n",
       "</table>\n",
       "</div>"
      ],
      "text/plain": [
       "   day  month  Temperature  RH  Ws  Rain  FFMC  DMC    DC  ISI  BUI  FWI  \\\n",
       "0    1      6           29  57  18   0.0  65.7  3.4   7.6  1.3  3.4  0.5   \n",
       "1    2      6           29  61  13   1.3  64.4  4.1   7.6  1.0  3.9  0.4   \n",
       "2    3      6           26  82  22  13.1  47.1  2.5   7.1  0.3  2.7  0.1   \n",
       "3    4      6           25  89  13   2.5  28.6  1.3   6.9  0.0  1.7  0.0   \n",
       "4    5      6           27  77  16   0.0  64.8  3.0  14.2  1.2  3.9  0.5   \n",
       "\n",
       "   Classes  Region  \n",
       "0        0       0  \n",
       "1        0       0  \n",
       "2        0       0  \n",
       "3        0       0  \n",
       "4        0       0  "
      ]
     },
     "execution_count": 6,
     "metadata": {},
     "output_type": "execute_result"
    }
   ],
   "source": [
    "df['Classes'] = pd.get_dummies(df['Classes']).astype(int).drop('not fire', axis=1)\n",
    "df.drop('year', axis=1, inplace=True)\n",
    "df.head()"
   ]
  },
  {
   "cell_type": "markdown",
   "id": "1e8af089",
   "metadata": {},
   "source": [
    "### Data Splitting"
   ]
  },
  {
   "cell_type": "code",
   "execution_count": 7,
   "id": "0e0fa0c7",
   "metadata": {},
   "outputs": [
    {
     "data": {
      "text/html": [
       "<div>\n",
       "<style scoped>\n",
       "    .dataframe tbody tr th:only-of-type {\n",
       "        vertical-align: middle;\n",
       "    }\n",
       "\n",
       "    .dataframe tbody tr th {\n",
       "        vertical-align: top;\n",
       "    }\n",
       "\n",
       "    .dataframe thead th {\n",
       "        text-align: right;\n",
       "    }\n",
       "</style>\n",
       "<table border=\"1\" class=\"dataframe\">\n",
       "  <thead>\n",
       "    <tr style=\"text-align: right;\">\n",
       "      <th></th>\n",
       "      <th>day</th>\n",
       "      <th>month</th>\n",
       "      <th>Temperature</th>\n",
       "      <th>RH</th>\n",
       "      <th>Ws</th>\n",
       "      <th>Rain</th>\n",
       "      <th>FFMC</th>\n",
       "      <th>DMC</th>\n",
       "      <th>DC</th>\n",
       "      <th>ISI</th>\n",
       "      <th>BUI</th>\n",
       "      <th>Classes</th>\n",
       "      <th>Region</th>\n",
       "    </tr>\n",
       "  </thead>\n",
       "  <tbody>\n",
       "    <tr>\n",
       "      <th>0</th>\n",
       "      <td>1</td>\n",
       "      <td>6</td>\n",
       "      <td>29</td>\n",
       "      <td>57</td>\n",
       "      <td>18</td>\n",
       "      <td>0.0</td>\n",
       "      <td>65.7</td>\n",
       "      <td>3.4</td>\n",
       "      <td>7.6</td>\n",
       "      <td>1.3</td>\n",
       "      <td>3.4</td>\n",
       "      <td>0</td>\n",
       "      <td>0</td>\n",
       "    </tr>\n",
       "    <tr>\n",
       "      <th>1</th>\n",
       "      <td>2</td>\n",
       "      <td>6</td>\n",
       "      <td>29</td>\n",
       "      <td>61</td>\n",
       "      <td>13</td>\n",
       "      <td>1.3</td>\n",
       "      <td>64.4</td>\n",
       "      <td>4.1</td>\n",
       "      <td>7.6</td>\n",
       "      <td>1.0</td>\n",
       "      <td>3.9</td>\n",
       "      <td>0</td>\n",
       "      <td>0</td>\n",
       "    </tr>\n",
       "    <tr>\n",
       "      <th>2</th>\n",
       "      <td>3</td>\n",
       "      <td>6</td>\n",
       "      <td>26</td>\n",
       "      <td>82</td>\n",
       "      <td>22</td>\n",
       "      <td>13.1</td>\n",
       "      <td>47.1</td>\n",
       "      <td>2.5</td>\n",
       "      <td>7.1</td>\n",
       "      <td>0.3</td>\n",
       "      <td>2.7</td>\n",
       "      <td>0</td>\n",
       "      <td>0</td>\n",
       "    </tr>\n",
       "    <tr>\n",
       "      <th>3</th>\n",
       "      <td>4</td>\n",
       "      <td>6</td>\n",
       "      <td>25</td>\n",
       "      <td>89</td>\n",
       "      <td>13</td>\n",
       "      <td>2.5</td>\n",
       "      <td>28.6</td>\n",
       "      <td>1.3</td>\n",
       "      <td>6.9</td>\n",
       "      <td>0.0</td>\n",
       "      <td>1.7</td>\n",
       "      <td>0</td>\n",
       "      <td>0</td>\n",
       "    </tr>\n",
       "    <tr>\n",
       "      <th>4</th>\n",
       "      <td>5</td>\n",
       "      <td>6</td>\n",
       "      <td>27</td>\n",
       "      <td>77</td>\n",
       "      <td>16</td>\n",
       "      <td>0.0</td>\n",
       "      <td>64.8</td>\n",
       "      <td>3.0</td>\n",
       "      <td>14.2</td>\n",
       "      <td>1.2</td>\n",
       "      <td>3.9</td>\n",
       "      <td>0</td>\n",
       "      <td>0</td>\n",
       "    </tr>\n",
       "  </tbody>\n",
       "</table>\n",
       "</div>"
      ],
      "text/plain": [
       "   day  month  Temperature  RH  Ws  Rain  FFMC  DMC    DC  ISI  BUI  Classes  \\\n",
       "0    1      6           29  57  18   0.0  65.7  3.4   7.6  1.3  3.4        0   \n",
       "1    2      6           29  61  13   1.3  64.4  4.1   7.6  1.0  3.9        0   \n",
       "2    3      6           26  82  22  13.1  47.1  2.5   7.1  0.3  2.7        0   \n",
       "3    4      6           25  89  13   2.5  28.6  1.3   6.9  0.0  1.7        0   \n",
       "4    5      6           27  77  16   0.0  64.8  3.0  14.2  1.2  3.9        0   \n",
       "\n",
       "   Region  \n",
       "0       0  \n",
       "1       0  \n",
       "2       0  \n",
       "3       0  \n",
       "4       0  "
      ]
     },
     "execution_count": 7,
     "metadata": {},
     "output_type": "execute_result"
    }
   ],
   "source": [
    "X = df.drop('FWI', axis=1)\n",
    "X.head()"
   ]
  },
  {
   "cell_type": "code",
   "execution_count": 8,
   "id": "f118d6a6",
   "metadata": {},
   "outputs": [
    {
     "data": {
      "text/plain": [
       "0    0.5\n",
       "1    0.4\n",
       "2    0.1\n",
       "3    0.0\n",
       "4    0.5\n",
       "Name: FWI, dtype: float64"
      ]
     },
     "execution_count": 8,
     "metadata": {},
     "output_type": "execute_result"
    }
   ],
   "source": [
    "y = df['FWI']\n",
    "y.head()"
   ]
  },
  {
   "cell_type": "code",
   "execution_count": 9,
   "id": "4901b8d3",
   "metadata": {},
   "outputs": [],
   "source": [
    "from sklearn.model_selection import train_test_split\n",
    "X_train, X_test, y_train, y_test = train_test_split(X, y, test_size=.25, random_state=42)"
   ]
  },
  {
   "cell_type": "markdown",
   "id": "349b4af6",
   "metadata": {},
   "source": [
    "### Feature Scaling"
   ]
  },
  {
   "cell_type": "code",
   "execution_count": 10,
   "id": "6a5ae0e6",
   "metadata": {},
   "outputs": [],
   "source": [
    "from sklearn.preprocessing import StandardScaler\n",
    "scaler = StandardScaler()\n",
    "\n",
    "X_train_scaled = scaler.fit_transform(X_train)\n",
    "X_test_scaled = scaler.transform(X_test)"
   ]
  },
  {
   "cell_type": "markdown",
   "id": "317c889f",
   "metadata": {},
   "source": [
    "## Linear Regression (Multiple Linear)"
   ]
  },
  {
   "cell_type": "code",
   "execution_count": 11,
   "id": "e0180e1a",
   "metadata": {},
   "outputs": [],
   "source": [
    "from sklearn.linear_model import LinearRegression\n",
    "\n",
    "li_re = LinearRegression()\n",
    "li_re.fit(X_train_scaled, y_train)\n",
    "y_pred = li_re.predict(X_test_scaled)"
   ]
  },
  {
   "cell_type": "code",
   "execution_count": 12,
   "id": "c60894e7",
   "metadata": {},
   "outputs": [],
   "source": [
    "from sklearn.metrics import (\n",
    "    r2_score,\n",
    "    mean_squared_error\n",
    ")"
   ]
  },
  {
   "cell_type": "code",
   "execution_count": 13,
   "id": "25fe5cca",
   "metadata": {},
   "outputs": [
    {
     "name": "stdout",
     "output_type": "stream",
     "text": [
      "R2: 0.9892728563308907\n",
      "MSE: 0.47478920218370974\n"
     ]
    }
   ],
   "source": [
    "print(f\"R2: {r2_score(y_test, y_pred)}\")\n",
    "print(f\"MSE: {mean_squared_error(y_test, y_pred)}\")"
   ]
  },
  {
   "cell_type": "code",
   "execution_count": 14,
   "id": "c68b8374",
   "metadata": {},
   "outputs": [
    {
     "name": "stdout",
     "output_type": "stream",
     "text": [
      "Intercept: 7.156043956043958\n",
      "Coefficients: [ 0.08841147  0.05087882 -0.03186505 -0.1741992  -0.0564597  -0.01494377\n",
      " -0.90218743 -0.04744901 -0.74385227  5.03996861  4.34694216  0.31223185\n",
      " -0.176241  ]\n"
     ]
    }
   ],
   "source": [
    "print(f\"Intercept: {li_re.intercept_}\")\n",
    "print(f\"Coefficients: {li_re.coef_}\")"
   ]
  },
  {
   "cell_type": "code",
   "execution_count": 15,
   "id": "00fb353b",
   "metadata": {},
   "outputs": [
    {
     "data": {
      "text/plain": [
       "<matplotlib.collections.PathCollection at 0x1889e892cb0>"
      ]
     },
     "execution_count": 15,
     "metadata": {},
     "output_type": "execute_result"
    },
    {
     "data": {
      "image/png": "[encoded data removed]",
      "text/plain": [
       "<Figure size 432x288 with 1 Axes>"
      ]
     },
     "metadata": {
      "needs_background": "light"
     },
     "output_type": "display_data"
    }
   ],
   "source": [
    "plt.scatter(y_test, y_pred)"
   ]
  },
  {
   "cell_type": "code",
   "execution_count": 16,
   "id": "72de08fb",
   "metadata": {},
   "outputs": [
    {
     "name": "stderr",
     "output_type": "stream",
     "text": [
      "c:\\Python310\\lib\\site-packages\\seaborn\\_oldcore.py:1119: FutureWarning: use_inf_as_na option is deprecated and will be removed in a future version. Convert inf values to NaN before operating instead.\n",
      "  with pd.option_context('mode.use_inf_as_na', True):\n"
     ]
    },
    {
     "data": {
      "text/plain": [
       "<AxesSubplot: xlabel='FWI', ylabel='Density'>"
      ]
     },
     "execution_count": 16,
     "metadata": {},
     "output_type": "execute_result"
    },
    {
     "data": {
      "image/png": "[encoded data removed]",
      "text/plain": [
       "<Figure size 432x288 with 1 Axes>"
      ]
     },
     "metadata": {
      "needs_background": "light"
     },
     "output_type": "display_data"
    }
   ],
   "source": [
    "residuals = y_test - y_pred\n",
    "\n",
    "sns.kdeplot(residuals)"
   ]
  },
  {
   "cell_type": "markdown",
   "id": "c07d47e1",
   "metadata": {},
   "source": [
    "## Ridge Regression"
   ]
  },
  {
   "cell_type": "code",
   "execution_count": 17,
   "id": "861eca7f",
   "metadata": {},
   "outputs": [],
   "source": [
    "from sklearn.linear_model import Ridge\n",
    "\n",
    "ridge = Ridge()\n",
    "ridge.fit(X_train_scaled, y_train)\n",
    "\n",
    "y_pred = ridge.predict(X_test_scaled)"
   ]
  },
  {
   "cell_type": "code",
   "execution_count": 18,
   "id": "5de7618f",
   "metadata": {},
   "outputs": [
    {
     "name": "stdout",
     "output_type": "stream",
     "text": [
      "R2: 0.9870959622986034\n",
      "MSE: 0.5711397138119351\n"
     ]
    }
   ],
   "source": [
    "print(f\"R2: {r2_score(y_test, y_pred)}\")\n",
    "print(f\"MSE: {mean_squared_error(y_test, y_pred)}\")"
   ]
  },
  {
   "cell_type": "code",
   "execution_count": 19,
   "id": "db098dee",
   "metadata": {},
   "outputs": [
    {
     "name": "stdout",
     "output_type": "stream",
     "text": [
      "Intercept: 7.156043956043957\n",
      "Coefficients: [ 8.48689120e-02  4.64313304e-02 -3.77687011e-02 -2.18496272e-01\n",
      " -4.09715656e-02  1.10755891e-04 -8.43365480e-01  1.66933011e+00\n",
      "  1.66790294e-01  4.91010421e+00  1.80776988e+00  3.53776624e-01\n",
      " -1.89029902e-01]\n"
     ]
    }
   ],
   "source": [
    "print(f\"Intercept: {ridge.intercept_}\")\n",
    "print(f\"Coefficients: {ridge.coef_}\")"
   ]
  },
  {
   "cell_type": "code",
   "execution_count": 20,
   "id": "2c3f389e",
   "metadata": {},
   "outputs": [
    {
     "data": {
      "text/plain": [
       "<matplotlib.collections.PathCollection at 0x188bdc58a90>"
      ]
     },
     "execution_count": 20,
     "metadata": {},
     "output_type": "execute_result"
    },
    {
     "data": {
      "image/png": "[encoded data removed]",
      "text/plain": [
       "<Figure size 432x288 with 1 Axes>"
      ]
     },
     "metadata": {
      "needs_background": "light"
     },
     "output_type": "display_data"
    }
   ],
   "source": [
    "plt.scatter(y_test, y_pred)"
   ]
  },
  {
   "cell_type": "code",
   "execution_count": 21,
   "id": "ea5b2203",
   "metadata": {},
   "outputs": [
    {
     "name": "stderr",
     "output_type": "stream",
     "text": [
      "c:\\Python310\\lib\\site-packages\\seaborn\\_oldcore.py:1119: FutureWarning: use_inf_as_na option is deprecated and will be removed in a future version. Convert inf values to NaN before operating instead.\n",
      "  with pd.option_context('mode.use_inf_as_na', True):\n"
     ]
    },
    {
     "data": {
      "text/plain": [
       "<AxesSubplot: xlabel='FWI', ylabel='Density'>"
      ]
     },
     "execution_count": 21,
     "metadata": {},
     "output_type": "execute_result"
    },
    {
     "data": {
      "image/png": "[encoded data removed]",
      "text/plain": [
       "<Figure size 432x288 with 1 Axes>"
      ]
     },
     "metadata": {
      "needs_background": "light"
     },
     "output_type": "display_data"
    }
   ],
   "source": [
    "residuals = y_test - y_pred\n",
    "\n",
    "sns.kdeplot(residuals)"
   ]
  },
  {
   "cell_type": "markdown",
   "id": "fad9d1dd",
   "metadata": {},
   "source": [
    "## Lasso Regression"
   ]
  },
  {
   "cell_type": "code",
   "execution_count": 22,
   "id": "09bc416f",
   "metadata": {},
   "outputs": [],
   "source": [
    "from sklearn.linear_model import Lasso\n",
    "\n",
    "lasso = Lasso()\n",
    "lasso.fit(X_train_scaled, y_train)\n",
    "\n",
    "y_predict = lasso.predict(X_test_scaled)"
   ]
  },
  {
   "cell_type": "code",
   "execution_count": 23,
   "id": "6c50ea4a",
   "metadata": {},
   "outputs": [
    {
     "name": "stdout",
     "output_type": "stream",
     "text": [
      "R2: 0.9870959622986034\n",
      "MSE: 0.5711397138119351\n"
     ]
    }
   ],
   "source": [
    "print(f\"R2: {r2_score(y_test, y_pred)}\")\n",
    "print(f\"MSE: {mean_squared_error(y_test, y_pred)}\")"
   ]
  },
  {
   "cell_type": "code",
   "execution_count": 24,
   "id": "17a3706d",
   "metadata": {},
   "outputs": [
    {
     "name": "stdout",
     "output_type": "stream",
     "text": [
      "Intercept: 7.156043956043957\n",
      "Coefficients: [ 0.          0.          0.         -0.          0.         -0.\n",
      "  0.          1.45286666  0.          4.09444136  1.5037934   0.\n",
      "  0.        ]\n"
     ]
    }
   ],
   "source": [
    "print(f\"Intercept: {lasso.intercept_}\")\n",
    "print(f\"Coefficients: {lasso.coef_}\")"
   ]
  },
  {
   "cell_type": "code",
   "execution_count": 25,
   "id": "d5cae838",
   "metadata": {},
   "outputs": [
    {
     "data": {
      "text/plain": [
       "<matplotlib.collections.PathCollection at 0x188bdd60fa0>"
      ]
     },
     "execution_count": 25,
     "metadata": {},
     "output_type": "execute_result"
    },
    {
     "data": {
      "image/png": "[encoded data removed]",
      "text/plain": [
       "<Figure size 432x288 with 1 Axes>"
      ]
     },
     "metadata": {
      "needs_background": "light"
     },
     "output_type": "display_data"
    }
   ],
   "source": [
    "plt.scatter(y_test, y_pred)"
   ]
  },
  {
   "cell_type": "code",
   "execution_count": 26,
   "id": "14d61d48",
   "metadata": {},
   "outputs": [
    {
     "name": "stderr",
     "output_type": "stream",
     "text": [
      "c:\\Python310\\lib\\site-packages\\seaborn\\_oldcore.py:1119: FutureWarning: use_inf_as_na option is deprecated and will be removed in a future version. Convert inf values to NaN before operating instead.\n",
      "  with pd.option_context('mode.use_inf_as_na', True):\n"
     ]
    },
    {
     "data": {
      "text/plain": [
       "<AxesSubplot: xlabel='FWI', ylabel='Density'>"
      ]
     },
     "execution_count": 26,
     "metadata": {},
     "output_type": "execute_result"
    },
    {
     "data": {
      "image/png": "[encoded data removed]",
      "text/plain": [
       "<Figure size 432x288 with 1 Axes>"
      ]
     },
     "metadata": {
      "needs_background": "light"
     },
     "output_type": "display_data"
    }
   ],
   "source": [
    "residuals = y_test - y_pred\n",
    "\n",
    "sns.kdeplot(residuals)"
   ]
  },
  {
   "cell_type": "markdown",
   "id": "80ca48f9",
   "metadata": {},
   "source": [
    "## ElasticeNet Regression"
   ]
  },
  {
   "cell_type": "code",
   "execution_count": 27,
   "id": "d0d31c9c",
   "metadata": {},
   "outputs": [],
   "source": [
    "from sklearn.linear_model import ElasticNet\n",
    "\n",
    "elasticnet = ElasticNet()\n",
    "elasticnet.fit(X_train_scaled, y_train)\n",
    "\n",
    "y_pred = elasticnet.predict(X_test_scaled)"
   ]
  },
  {
   "cell_type": "code",
   "execution_count": 28,
   "id": "562e92e6",
   "metadata": {},
   "outputs": [
    {
     "name": "stdout",
     "output_type": "stream",
     "text": [
      "R2: 0.9006649049983614\n",
      "MSE: 4.3966252303011215\n"
     ]
    }
   ],
   "source": [
    "print(f\"R2: {r2_score(y_test, y_pred)}\")\n",
    "print(f\"MSE: {mean_squared_error(y_test, y_pred)}\")"
   ]
  },
  {
   "cell_type": "code",
   "execution_count": 29,
   "id": "bfd5c635",
   "metadata": {},
   "outputs": [
    {
     "name": "stdout",
     "output_type": "stream",
     "text": [
      "Intercept: 7.156043956043956\n",
      "Coefficients: [ 0.          0.          0.14212847 -0.57136076  0.         -0.\n",
      "  0.2093687   1.38076179  0.69717607  2.20637228  1.20784704  0.68604997\n",
      "  0.        ]\n"
     ]
    }
   ],
   "source": [
    "print(f\"Intercept: {elasticnet.intercept_}\")\n",
    "print(f\"Coefficients: {elasticnet.coef_}\")"
   ]
  },
  {
   "cell_type": "code",
   "execution_count": 30,
   "id": "1e42bd9a",
   "metadata": {},
   "outputs": [
    {
     "data": {
      "text/plain": [
       "<matplotlib.collections.PathCollection at 0x188bdd95480>"
      ]
     },
     "execution_count": 30,
     "metadata": {},
     "output_type": "execute_result"
    },
    {
     "data": {
      "image/png": "[encoded data removed]",
      "text/plain": [
       "<Figure size 432x288 with 1 Axes>"
      ]
     },
     "metadata": {
      "needs_background": "light"
     },
     "output_type": "display_data"
    }
   ],
   "source": [
    "plt.scatter(y_test, y_pred)"
   ]
  },
  {
   "cell_type": "code",
   "execution_count": 31,
   "id": "0ae51338",
   "metadata": {},
   "outputs": [
    {
     "name": "stderr",
     "output_type": "stream",
     "text": [
      "c:\\Python310\\lib\\site-packages\\seaborn\\_oldcore.py:1119: FutureWarning: use_inf_as_na option is deprecated and will be removed in a future version. Convert inf values to NaN before operating instead.\n",
      "  with pd.option_context('mode.use_inf_as_na', True):\n"
     ]
    },
    {
     "data": {
      "text/plain": [
       "<AxesSubplot: xlabel='FWI', ylabel='Density'>"
      ]
     },
     "execution_count": 31,
     "metadata": {},
     "output_type": "execute_result"
    },
    {
     "data": {
      "image/png": "[encoded data removed]",
      "text/plain": [
       "<Figure size 432x288 with 1 Axes>"
      ]
     },
     "metadata": {
      "needs_background": "light"
     },
     "output_type": "display_data"
    }
   ],
   "source": [
    "residuals = y_test - y_pred\n",
    "\n",
    "sns.kdeplot(residuals)"
   ]
  },
  {
   "cell_type": "markdown",
   "id": "7c65faef",
   "metadata": {},
   "source": [
    "## Predicting data of new values"
   ]
  },
  {
   "cell_type": "code",
   "execution_count": 32,
   "id": "bf711ac9",
   "metadata": {},
   "outputs": [
    {
     "data": {
      "text/html": [
       "<div>\n",
       "<style scoped>\n",
       "    .dataframe tbody tr th:only-of-type {\n",
       "        vertical-align: middle;\n",
       "    }\n",
       "\n",
       "    .dataframe tbody tr th {\n",
       "        vertical-align: top;\n",
       "    }\n",
       "\n",
       "    .dataframe thead th {\n",
       "        text-align: right;\n",
       "    }\n",
       "</style>\n",
       "<table border=\"1\" class=\"dataframe\">\n",
       "  <thead>\n",
       "    <tr style=\"text-align: right;\">\n",
       "      <th></th>\n",
       "      <th>day</th>\n",
       "      <th>month</th>\n",
       "      <th>Temperature</th>\n",
       "      <th>RH</th>\n",
       "      <th>Ws</th>\n",
       "      <th>Rain</th>\n",
       "      <th>FFMC</th>\n",
       "      <th>DMC</th>\n",
       "      <th>DC</th>\n",
       "      <th>ISI</th>\n",
       "      <th>BUI</th>\n",
       "      <th>FWI</th>\n",
       "      <th>Classes</th>\n",
       "      <th>Region</th>\n",
       "    </tr>\n",
       "  </thead>\n",
       "  <tbody>\n",
       "    <tr>\n",
       "      <th>0</th>\n",
       "      <td>1</td>\n",
       "      <td>6</td>\n",
       "      <td>29</td>\n",
       "      <td>57</td>\n",
       "      <td>18</td>\n",
       "      <td>0.0</td>\n",
       "      <td>65.7</td>\n",
       "      <td>3.4</td>\n",
       "      <td>7.6</td>\n",
       "      <td>1.3</td>\n",
       "      <td>3.4</td>\n",
       "      <td>0.5</td>\n",
       "      <td>0</td>\n",
       "      <td>0</td>\n",
       "    </tr>\n",
       "  </tbody>\n",
       "</table>\n",
       "</div>"
      ],
      "text/plain": [
       "   day  month  Temperature  RH  Ws  Rain  FFMC  DMC   DC  ISI  BUI  FWI  \\\n",
       "0    1      6           29  57  18   0.0  65.7  3.4  7.6  1.3  3.4  0.5   \n",
       "\n",
       "   Classes  Region  \n",
       "0        0       0  "
      ]
     },
     "execution_count": 32,
     "metadata": {},
     "output_type": "execute_result"
    }
   ],
   "source": [
    "df.loc[[0]]"
   ]
  },
  {
   "cell_type": "code",
   "execution_count": 33,
   "id": "4ba406e6",
   "metadata": {},
   "outputs": [
    {
     "data": {
      "text/plain": [
       "[1.0, 6.0, 29.0, 57.0, 18.0, 0.0, 65.7, 3.4, 7.6, 1.3, 3.4, 0.5, 0.0, 0.0]"
      ]
     },
     "execution_count": 33,
     "metadata": {},
     "output_type": "execute_result"
    }
   ],
   "source": [
    "df.loc[0].to_list()"
   ]
  },
  {
   "cell_type": "code",
   "execution_count": 34,
   "id": "38b9c68b",
   "metadata": {},
   "outputs": [
    {
     "name": "stderr",
     "output_type": "stream",
     "text": [
      "c:\\Python310\\lib\\site-packages\\sklearn\\utils\\validation.py:2749: UserWarning: X does not have valid feature names, but StandardScaler was fitted with feature names\n",
      "  warnings.warn(\n"
     ]
    },
    {
     "data": {
      "text/plain": [
       "array([[-1.66417685, -1.34865164, -0.84284248, -0.35227576,  0.9200267 ,\n",
       "        -0.38406017, -0.83345658, -0.89858211, -0.87086348, -0.81483447,\n",
       "        -0.92409178, -1.10431526, -0.98907071]])"
      ]
     },
     "execution_count": 34,
     "metadata": {},
     "output_type": "execute_result"
    }
   ],
   "source": [
    "new_input = [[1.0, 6.0, 29.0, 57.0, 18.0, 0.0, 65.7, 3.4, 7.6, 1.3, 3.4, 0.0, 0.0]]\n",
    "transformed_inp = scaler.transform(new_input)\n",
    "transformed_inp"
   ]
  },
  {
   "cell_type": "code",
   "execution_count": 35,
   "id": "5c3cc8f7",
   "metadata": {},
   "outputs": [
    {
     "data": {
      "text/plain": [
       "array([0.13047546])"
      ]
     },
     "execution_count": 35,
     "metadata": {},
     "output_type": "execute_result"
    }
   ],
   "source": [
    "# Linear Regression\n",
    "li_re.predict(transformed_inp)"
   ]
  },
  {
   "cell_type": "code",
   "execution_count": 36,
   "id": "1bbe08dc",
   "metadata": {},
   "outputs": [
    {
     "data": {
      "text/plain": [
       "array([0.20569622])"
      ]
     },
     "execution_count": 36,
     "metadata": {},
     "output_type": "execute_result"
    }
   ],
   "source": [
    "# Ridge \n",
    "ridge.predict(transformed_inp)"
   ]
  },
  {
   "cell_type": "code",
   "execution_count": 37,
   "id": "7c215038",
   "metadata": {},
   "outputs": [
    {
     "data": {
      "text/plain": [
       "array([1.12458886])"
      ]
     },
     "execution_count": 37,
     "metadata": {},
     "output_type": "execute_result"
    }
   ],
   "source": [
    "# Lasso\n",
    "lasso.predict(transformed_inp)"
   ]
  },
  {
   "cell_type": "code",
   "execution_count": 38,
   "id": "2c990b28",
   "metadata": {},
   "outputs": [
    {
     "data": {
      "text/plain": [
       "array([1.54355068])"
      ]
     },
     "execution_count": 38,
     "metadata": {},
     "output_type": "execute_result"
    }
   ],
   "source": [
    "# Elastic net\n",
    "elasticnet.predict(transformed_inp)"
   ]
  },
  {
   "cell_type": "code",
   "execution_count": 39,
   "id": "686d16ba",
   "metadata": {},
   "outputs": [],
   "source": [
    "def new_inp_pred(inp):\n",
    "    print(inp)\n",
    "    transformed_inp = scaler.transform(inp)\n",
    "    print(f\"Linear: {li_re.predict(transformed_inp)}\")\n",
    "    print(f\"Ridge: {ridge.predict(transformed_inp)}\")\n",
    "    print(f\"Lasso: {lasso.predict(transformed_inp)}\")\n",
    "    print(f\"Elastic Net: {elasticnet.predict(transformed_inp)}\")\n",
    "    "
   ]
  },
  {
   "cell_type": "code",
   "execution_count": 40,
   "id": "945f1ee3",
   "metadata": {},
   "outputs": [
    {
     "data": {
      "text/html": [
       "<div>\n",
       "<style scoped>\n",
       "    .dataframe tbody tr th:only-of-type {\n",
       "        vertical-align: middle;\n",
       "    }\n",
       "\n",
       "    .dataframe tbody tr th {\n",
       "        vertical-align: top;\n",
       "    }\n",
       "\n",
       "    .dataframe thead th {\n",
       "        text-align: right;\n",
       "    }\n",
       "</style>\n",
       "<table border=\"1\" class=\"dataframe\">\n",
       "  <thead>\n",
       "    <tr style=\"text-align: right;\">\n",
       "      <th></th>\n",
       "      <th>day</th>\n",
       "      <th>month</th>\n",
       "      <th>Temperature</th>\n",
       "      <th>RH</th>\n",
       "      <th>Ws</th>\n",
       "      <th>Rain</th>\n",
       "      <th>FFMC</th>\n",
       "      <th>DMC</th>\n",
       "      <th>DC</th>\n",
       "      <th>ISI</th>\n",
       "      <th>BUI</th>\n",
       "      <th>FWI</th>\n",
       "      <th>Classes</th>\n",
       "      <th>Region</th>\n",
       "    </tr>\n",
       "  </thead>\n",
       "  <tbody>\n",
       "    <tr>\n",
       "      <th>5</th>\n",
       "      <td>6</td>\n",
       "      <td>6</td>\n",
       "      <td>31</td>\n",
       "      <td>67</td>\n",
       "      <td>14</td>\n",
       "      <td>0.0</td>\n",
       "      <td>82.6</td>\n",
       "      <td>5.8</td>\n",
       "      <td>22.2</td>\n",
       "      <td>3.1</td>\n",
       "      <td>7.0</td>\n",
       "      <td>2.5</td>\n",
       "      <td>1</td>\n",
       "      <td>0</td>\n",
       "    </tr>\n",
       "  </tbody>\n",
       "</table>\n",
       "</div>"
      ],
      "text/plain": [
       "   day  month  Temperature  RH  Ws  Rain  FFMC  DMC    DC  ISI  BUI  FWI  \\\n",
       "5    6      6           31  67  14   0.0  82.6  5.8  22.2  3.1  7.0  2.5   \n",
       "\n",
       "   Classes  Region  \n",
       "5        1       0  "
      ]
     },
     "metadata": {},
     "output_type": "display_data"
    },
    {
     "name": "stdout",
     "output_type": "stream",
     "text": [
      "   day  month  Temperature  RH  Ws  Rain  FFMC  DMC    DC  ISI  BUI  Classes  \\\n",
      "5    6      6           31  67  14   0.0  82.6  5.8  22.2  3.1  7.0        1   \n",
      "\n",
      "   Region  \n",
      "5       0  \n",
      "Linear: [2.6385605]\n",
      "Ridge: [2.72684877]\n",
      "Lasso: [3.479688]\n",
      "Elastic Net: [4.55668713]\n"
     ]
    }
   ],
   "source": [
    "display(df.loc[[5]])\n",
    "new_inp5 = df.loc[[5]].drop('FWI', axis=1)\n",
    "new_inp_pred(new_inp5)"
   ]
  },
  {
   "cell_type": "code",
   "execution_count": 41,
   "id": "97cc1ce4",
   "metadata": {},
   "outputs": [
    {
     "data": {
      "text/html": [
       "<div>\n",
       "<style scoped>\n",
       "    .dataframe tbody tr th:only-of-type {\n",
       "        vertical-align: middle;\n",
       "    }\n",
       "\n",
       "    .dataframe tbody tr th {\n",
       "        vertical-align: top;\n",
       "    }\n",
       "\n",
       "    .dataframe thead th {\n",
       "        text-align: right;\n",
       "    }\n",
       "</style>\n",
       "<table border=\"1\" class=\"dataframe\">\n",
       "  <thead>\n",
       "    <tr style=\"text-align: right;\">\n",
       "      <th></th>\n",
       "      <th>day</th>\n",
       "      <th>month</th>\n",
       "      <th>Temperature</th>\n",
       "      <th>RH</th>\n",
       "      <th>Ws</th>\n",
       "      <th>Rain</th>\n",
       "      <th>FFMC</th>\n",
       "      <th>DMC</th>\n",
       "      <th>DC</th>\n",
       "      <th>ISI</th>\n",
       "      <th>BUI</th>\n",
       "      <th>FWI</th>\n",
       "      <th>Classes</th>\n",
       "      <th>Region</th>\n",
       "    </tr>\n",
       "  </thead>\n",
       "  <tbody>\n",
       "    <tr>\n",
       "      <th>10</th>\n",
       "      <td>11</td>\n",
       "      <td>6</td>\n",
       "      <td>31</td>\n",
       "      <td>65</td>\n",
       "      <td>14</td>\n",
       "      <td>0.0</td>\n",
       "      <td>84.5</td>\n",
       "      <td>12.5</td>\n",
       "      <td>54.3</td>\n",
       "      <td>4.0</td>\n",
       "      <td>15.8</td>\n",
       "      <td>5.6</td>\n",
       "      <td>1</td>\n",
       "      <td>0</td>\n",
       "    </tr>\n",
       "  </tbody>\n",
       "</table>\n",
       "</div>"
      ],
      "text/plain": [
       "    day  month  Temperature  RH  Ws  Rain  FFMC   DMC    DC  ISI   BUI  FWI  \\\n",
       "10   11      6           31  65  14   0.0  84.5  12.5  54.3  4.0  15.8  5.6   \n",
       "\n",
       "    Classes  Region  \n",
       "10        1       0  "
      ]
     },
     "metadata": {},
     "output_type": "display_data"
    },
    {
     "name": "stdout",
     "output_type": "stream",
     "text": [
      "    day  month  Temperature  RH  Ws  Rain  FFMC   DMC    DC  ISI   BUI  \\\n",
      "10   11      6           31  65  14   0.0  84.5  12.5  54.3  4.0  15.8   \n",
      "\n",
      "    Classes  Region  \n",
      "10        1       0  \n",
      "Linear: [5.75536276]\n",
      "Ridge: [5.80703034]\n",
      "Lasso: [6.01502341]\n",
      "Elastic Net: [7.04811763]\n"
     ]
    }
   ],
   "source": [
    "display(df.loc[[10]])\n",
    "new_inp10 = df.loc[[10]].drop('FWI', axis=1)\n",
    "new_inp_pred(new_inp10)"
   ]
  },
  {
   "cell_type": "markdown",
   "id": "21de0340",
   "metadata": {},
   "source": [
    "## Model Cross Validation"
   ]
  },
  {
   "cell_type": "markdown",
   "id": "92a375a5",
   "metadata": {},
   "source": [
    "<center><h1>Model Cross Validation</h1></center>"
   ]
  },
  {
   "cell_type": "markdown",
   "id": "2b111ea5",
   "metadata": {},
   "source": [
    "## Ridge CV"
   ]
  },
  {
   "cell_type": "code",
   "execution_count": 42,
   "id": "9e074ff6",
   "metadata": {},
   "outputs": [],
   "source": [
    "from sklearn.linear_model import RidgeCV\n",
    "\n",
    "ridgecv = RidgeCV()\n",
    "\n",
    "ridgecv.fit(X_train_scaled, y_train)\n",
    "y_pred = ridgecv.predict(X_test_scaled)\n"
   ]
  },
  {
   "cell_type": "code",
   "execution_count": 43,
   "id": "6f830c86",
   "metadata": {},
   "outputs": [
    {
     "name": "stdout",
     "output_type": "stream",
     "text": [
      "R2: 0.9870959622985971\n",
      "MSE: 0.5711397138122138\n"
     ]
    }
   ],
   "source": [
    "print(f\"R2: {r2_score(y_test, y_pred)}\")\n",
    "print(f\"MSE: {mean_squared_error(y_test, y_pred)}\")"
   ]
  },
  {
   "cell_type": "code",
   "execution_count": 44,
   "id": "83d1ae85",
   "metadata": {},
   "outputs": [
    {
     "name": "stdout",
     "output_type": "stream",
     "text": [
      "Intercept: 7.156043956043957\n",
      "Coefficients: [ 8.48689120e-02  4.64313304e-02 -3.77687011e-02 -2.18496272e-01\n",
      " -4.09715656e-02  1.10755891e-04 -8.43365480e-01  1.66933011e+00\n",
      "  1.66790294e-01  4.91010421e+00  1.80776988e+00  3.53776624e-01\n",
      " -1.89029902e-01]\n"
     ]
    }
   ],
   "source": [
    "print(f\"Intercept: {ridgecv.intercept_}\")\n",
    "print(f\"Coefficients: {ridgecv.coef_}\")"
   ]
  },
  {
   "cell_type": "code",
   "execution_count": 45,
   "id": "454b65c6",
   "metadata": {},
   "outputs": [
    {
     "data": {
      "image/png": "[encoded data removed]",
      "text/plain": [
       "<Figure size 432x288 with 1 Axes>"
      ]
     },
     "metadata": {
      "needs_background": "light"
     },
     "output_type": "display_data"
    }
   ],
   "source": [
    "plt.scatter(y_test, y_pred)\n",
    "residuals = y_test - y_pred"
   ]
  },
  {
   "cell_type": "code",
   "execution_count": 46,
   "id": "290d0aa0",
   "metadata": {},
   "outputs": [
    {
     "name": "stderr",
     "output_type": "stream",
     "text": [
      "c:\\Python310\\lib\\site-packages\\seaborn\\_oldcore.py:1119: FutureWarning: use_inf_as_na option is deprecated and will be removed in a future version. Convert inf values to NaN before operating instead.\n",
      "  with pd.option_context('mode.use_inf_as_na', True):\n"
     ]
    },
    {
     "data": {
      "text/plain": [
       "<AxesSubplot: xlabel='FWI', ylabel='Density'>"
      ]
     },
     "execution_count": 46,
     "metadata": {},
     "output_type": "execute_result"
    },
    {
     "data": {
      "image/png": "[encoded data removed]",
      "text/plain": [
       "<Figure size 432x288 with 1 Axes>"
      ]
     },
     "metadata": {
      "needs_background": "light"
     },
     "output_type": "display_data"
    }
   ],
   "source": [
    "sns.kdeplot(residuals)"
   ]
  },
  {
   "cell_type": "code",
   "execution_count": 47,
   "id": "6130ac75",
   "metadata": {},
   "outputs": [
    {
     "data": {
      "text/plain": [
       "1.0"
      ]
     },
     "execution_count": 47,
     "metadata": {},
     "output_type": "execute_result"
    }
   ],
   "source": [
    "ridgecv.alpha_"
   ]
  },
  {
   "cell_type": "code",
   "execution_count": 48,
   "id": "f0bf8363",
   "metadata": {},
   "outputs": [
    {
     "data": {
      "text/plain": [
       "(0.1, 1.0, 10.0)"
      ]
     },
     "execution_count": 48,
     "metadata": {},
     "output_type": "execute_result"
    }
   ],
   "source": [
    "ridgecv.alphas"
   ]
  },
  {
   "cell_type": "markdown",
   "id": "0c9d6855",
   "metadata": {},
   "source": [
    "## Lasso Regression"
   ]
  },
  {
   "cell_type": "code",
   "execution_count": 49,
   "id": "06bf643a",
   "metadata": {},
   "outputs": [],
   "source": [
    "from sklearn.linear_model import LassoCV\n",
    "\n",
    "lassocv = LassoCV()\n",
    "\n",
    "lassocv.fit(X_train_scaled, y_train)\n",
    "y_pred = lassocv.predict(X_test_scaled)"
   ]
  },
  {
   "cell_type": "code",
   "execution_count": 50,
   "id": "4400a6c7",
   "metadata": {},
   "outputs": [
    {
     "name": "stdout",
     "output_type": "stream",
     "text": [
      "R2: 0.9862257529931416\n",
      "MSE: 0.6096556500776911\n"
     ]
    }
   ],
   "source": [
    "print(f\"R2: {r2_score(y_test, y_pred)}\")\n",
    "print(f\"MSE: {mean_squared_error(y_test, y_pred)}\")"
   ]
  },
  {
   "cell_type": "code",
   "execution_count": 51,
   "id": "2f8c257e",
   "metadata": {},
   "outputs": [
    {
     "name": "stdout",
     "output_type": "stream",
     "text": [
      "Intercept: 7.156043956043957\n",
      "Coefficients: [ 7.78926036e-03  0.00000000e+00 -0.00000000e+00 -0.00000000e+00\n",
      "  0.00000000e+00  4.26431162e-04 -3.88741001e-01  1.00143950e+00\n",
      "  0.00000000e+00  4.94282397e+00  2.55057780e+00  2.93454934e-02\n",
      " -4.92226917e-02]\n"
     ]
    }
   ],
   "source": [
    "print(f\"Intercept: {lassocv.intercept_}\")\n",
    "print(f\"Coefficients: {lassocv.coef_}\")"
   ]
  },
  {
   "cell_type": "code",
   "execution_count": 52,
   "id": "26236421",
   "metadata": {},
   "outputs": [
    {
     "data": {
      "image/png": "[encoded data removed]",
      "text/plain": [
       "<Figure size 432x288 with 1 Axes>"
      ]
     },
     "metadata": {
      "needs_background": "light"
     },
     "output_type": "display_data"
    }
   ],
   "source": [
    "plt.scatter(y_test, y_pred)\n",
    "residuals = y_test - y_pred"
   ]
  },
  {
   "cell_type": "code",
   "execution_count": 53,
   "metadata": {},
   "outputs": [
    {
     "name": "stderr",
     "output_type": "stream",
     "text": [
      "c:\\Python310\\lib\\site-packages\\seaborn\\_oldcore.py:1119: FutureWarning: use_inf_as_na option is deprecated and will be removed in a future version. Convert inf values to NaN before operating instead.\n",
      "  with pd.option_context('mode.use_inf_as_na', True):\n"
     ]
    },
    {
     "data": {
      "text/plain": [
       "<AxesSubplot: xlabel='FWI', ylabel='Density'>"
      ]
     },
     "execution_count": 53,
     "metadata": {},
     "output_type": "execute_result"
    },
    {
     "data": {
      "image/png": "[encoded data removed]",
      "text/plain": [
       "<Figure size 432x288 with 1 Axes>"
      ]
     },
     "metadata": {
      "needs_background": "light"
     },
     "output_type": "display_data"
    }
   ],
   "source": [
    "sns.kdeplot(residuals)"
   ]
  },
  {
   "cell_type": "code",
   "execution_count": 54,
   "id": "eccf253a",
   "metadata": {},
   "outputs": [
    {
     "data": {
      "text/plain": [
       "0.07058530018715202"
      ]
     },
     "execution_count": 54,
     "metadata": {},
     "output_type": "execute_result"
    }
   ],
   "source": [
    "lassocv.alpha_"
   ]
  },
  {
   "cell_type": "code",
   "execution_count": 55,
   "id": "a8092352",
   "metadata": {},
   "outputs": [
    {
     "data": {
      "text/plain": [
       "array([7.05853002, 6.58280872, 6.13914944, 5.72539132, 5.33951911,\n",
       "       4.97965339, 4.64404142, 4.33104857, 4.03915039, 3.76692517,\n",
       "       3.51304702, 3.27627941, 3.05546914, 2.84954075, 2.65749124,\n",
       "       2.47838523, 2.31135036, 2.15557308, 2.01029467, 1.87480753,\n",
       "       1.74845178, 1.63061198, 1.52071419, 1.41822315, 1.32263965,\n",
       "       1.23349817, 1.15036452, 1.0728338 , 1.00052839, 0.93309613,\n",
       "       0.87020857, 0.81155943, 0.75686304, 0.705853  , 0.65828087,\n",
       "       0.61391494, 0.57253913, 0.53395191, 0.49796534, 0.46440414,\n",
       "       0.43310486, 0.40391504, 0.37669252, 0.3513047 , 0.32762794,\n",
       "       0.30554691, 0.28495408, 0.26574912, 0.24783852, 0.23113504,\n",
       "       0.21555731, 0.20102947, 0.18748075, 0.17484518, 0.1630612 ,\n",
       "       0.15207142, 0.14182231, 0.13226397, 0.12334982, 0.11503645,\n",
       "       0.10728338, 0.10005284, 0.09330961, 0.08702086, 0.08115594,\n",
       "       0.0756863 , 0.0705853 , 0.06582809, 0.06139149, 0.05725391,\n",
       "       0.05339519, 0.04979653, 0.04644041, 0.04331049, 0.0403915 ,\n",
       "       0.03766925, 0.03513047, 0.03276279, 0.03055469, 0.02849541,\n",
       "       0.02657491, 0.02478385, 0.0231135 , 0.02155573, 0.02010295,\n",
       "       0.01874808, 0.01748452, 0.01630612, 0.01520714, 0.01418223,\n",
       "       0.0132264 , 0.01233498, 0.01150365, 0.01072834, 0.01000528,\n",
       "       0.00933096, 0.00870209, 0.00811559, 0.00756863, 0.00705853])"
      ]
     },
     "execution_count": 55,
     "metadata": {},
     "output_type": "execute_result"
    }
   ],
   "source": [
    "lassocv.alphas_"
   ]
  },
  {
   "cell_type": "code",
   "execution_count": null,
   "id": "12e7fff4",
   "metadata": {},
   "outputs": [],
   "source": []
  },
  {
   "cell_type": "markdown",
   "id": "57cd6a31",
   "metadata": {},
   "source": [
    "## ElasticNet Regression"
   ]
  },
  {
   "cell_type": "code",
   "execution_count": 56,
   "id": "9435ad90",
   "metadata": {},
   "outputs": [],
   "source": [
    "from sklearn.linear_model import ElasticNetCV\n",
    "\n",
    "elasticnetcv = ElasticNetCV()\n",
    "elasticnetcv.fit(X_train_scaled, y_train)\n",
    "\n",
    "y_pred = elasticnetcv.predict(X_test_scaled)"
   ]
  },
  {
   "cell_type": "code",
   "execution_count": 57,
   "metadata": {},
   "outputs": [
    {
     "name": "stdout",
     "output_type": "stream",
     "text": [
      "R2: 0.9831160335702203\n",
      "MSE: 0.74729351989347\n"
     ]
    }
   ],
   "source": [
    "print(f\"R2: {r2_score(y_test, y_pred)}\")\n",
    "print(f\"MSE: {mean_squared_error(y_test, y_pred)}\")"
   ]
  },
  {
   "cell_type": "code",
   "execution_count": 58,
   "metadata": {},
   "outputs": [
    {
     "name": "stdout",
     "output_type": "stream",
     "text": [
      "Intercept: 7.156043956043957\n",
      "Coefficients: [ 0.04992394  0.04359742 -0.         -0.22919392  0.          0.01127884\n",
      " -0.58501057  1.8012604   0.34538109  4.59576416  1.5066507   0.33991107\n",
      " -0.11977492]\n"
     ]
    }
   ],
   "source": [
    "print(f\"Intercept: {elasticnetcv.intercept_}\")\n",
    "print(f\"Coefficients: {elasticnetcv.coef_}\")"
   ]
  },
  {
   "cell_type": "code",
   "execution_count": 59,
   "metadata": {},
   "outputs": [
    {
     "data": {
      "text/plain": [
       "<matplotlib.collections.PathCollection at 0x188bdeff010>"
      ]
     },
     "execution_count": 59,
     "metadata": {},
     "output_type": "execute_result"
    },
    {
     "data": {
      "image/png": "[encoded data removed]",
      "text/plain": [
       "<Figure size 432x288 with 1 Axes>"
      ]
     },
     "metadata": {
      "needs_background": "light"
     },
     "output_type": "display_data"
    }
   ],
   "source": [
    "plt.scatter(y_test, y_pred)"
   ]
  },
  {
   "cell_type": "code",
   "execution_count": 60,
   "metadata": {},
   "outputs": [
    {
     "name": "stderr",
     "output_type": "stream",
     "text": [
      "c:\\Python310\\lib\\site-packages\\seaborn\\_oldcore.py:1119: FutureWarning: use_inf_as_na option is deprecated and will be removed in a future version. Convert inf values to NaN before operating instead.\n",
      "  with pd.option_context('mode.use_inf_as_na', True):\n"
     ]
    },
    {
     "data": {
      "text/plain": [
       "<AxesSubplot: xlabel='FWI', ylabel='Density'>"
      ]
     },
     "execution_count": 60,
     "metadata": {},
     "output_type": "execute_result"
    },
    {
     "data": {
      "image/png": "[encoded data removed]",
      "text/plain": [
       "<Figure size 432x288 with 1 Axes>"
      ]
     },
     "metadata": {
      "needs_background": "light"
     },
     "output_type": "display_data"
    }
   ],
   "source": [
    "residuals = y_test - y_pred\n",
    "\n",
    "sns.kdeplot(residuals)"
   ]
  },
  {
   "cell_type": "code",
   "execution_count": 61,
   "id": "690648ce",
   "metadata": {},
   "outputs": [
    {
     "data": {
      "text/plain": [
       "0.04622700712786237"
      ]
     },
     "execution_count": 61,
     "metadata": {},
     "output_type": "execute_result"
    }
   ],
   "source": [
    "elasticnetcv.alpha_"
   ]
  },
  {
   "cell_type": "code",
   "execution_count": 62,
   "metadata": {},
   "outputs": [
    {
     "data": {
      "text/plain": [
       "array([14.11706004, 13.16561744, 12.27829889, 11.45078264, 10.67903821,\n",
       "        9.95930678,  9.28808283,  8.66209714,  8.07830078,  7.53385034,\n",
       "        7.02609405,  6.55255882,  6.11093829,  5.6990815 ,  5.31498248,\n",
       "        4.95677045,  4.62270071,  4.31114616,  4.02058933,  3.74961507,\n",
       "        3.49690356,  3.26122397,  3.04142839,  2.83644629,  2.64527931,\n",
       "        2.46699633,  2.30072904,  2.1456676 ,  2.00105679,  1.86619226,\n",
       "        1.74041714,  1.62311885,  1.51372607,  1.411706  ,  1.31656174,\n",
       "        1.22782989,  1.14507826,  1.06790382,  0.99593068,  0.92880828,\n",
       "        0.86620971,  0.80783008,  0.75338503,  0.7026094 ,  0.65525588,\n",
       "        0.61109383,  0.56990815,  0.53149825,  0.49567705,  0.46227007,\n",
       "        0.43111462,  0.40205893,  0.37496151,  0.34969036,  0.3261224 ,\n",
       "        0.30414284,  0.28364463,  0.26452793,  0.24669963,  0.2300729 ,\n",
       "        0.21456676,  0.20010568,  0.18661923,  0.17404171,  0.16231189,\n",
       "        0.15137261,  0.1411706 ,  0.13165617,  0.12278299,  0.11450783,\n",
       "        0.10679038,  0.09959307,  0.09288083,  0.08662097,  0.08078301,\n",
       "        0.0753385 ,  0.07026094,  0.06552559,  0.06110938,  0.05699082,\n",
       "        0.05314982,  0.0495677 ,  0.04622701,  0.04311146,  0.04020589,\n",
       "        0.03749615,  0.03496904,  0.03261224,  0.03041428,  0.02836446,\n",
       "        0.02645279,  0.02466996,  0.02300729,  0.02145668,  0.02001057,\n",
       "        0.01866192,  0.01740417,  0.01623119,  0.01513726,  0.01411706])"
      ]
     },
     "execution_count": 62,
     "metadata": {},
     "output_type": "execute_result"
    }
   ],
   "source": [
    "elasticnetcv.alphas_"
   ]
  },
  {
   "cell_type": "code",
   "execution_count": 63,
   "id": "1f4ee648",
   "metadata": {},
   "outputs": [
    {
     "data": {
      "text/plain": [
       "0.5"
      ]
     },
     "execution_count": 63,
     "metadata": {},
     "output_type": "execute_result"
    }
   ],
   "source": [
    "elasticnetcv.l1_ratio_"
   ]
  },
  {
   "cell_type": "code",
   "execution_count": 64,
   "id": "14afa966",
   "metadata": {},
   "outputs": [
    {
     "data": {
      "text/plain": [
       "100"
      ]
     },
     "execution_count": 64,
     "metadata": {},
     "output_type": "execute_result"
    }
   ],
   "source": [
    "len(elasticnetcv.mse_path_)"
   ]
  },
  {
   "cell_type": "code",
   "execution_count": 65,
   "id": "8799038c",
   "metadata": {},
   "outputs": [
    {
     "data": {
      "text/plain": [
       "array([[53.99690233, 65.39074075, 54.89628985, 77.90299066, 43.34226941],\n",
       "       [52.32726799, 64.62234745, 53.54650978, 77.60921421, 42.29623089],\n",
       "       [50.48450235, 62.8134661 , 51.58672319, 76.53887034, 40.53222098],\n",
       "       [48.62507544, 60.53106648, 49.60918933, 74.41882224, 38.76009301],\n",
       "       [46.60799096, 58.23192037, 47.46583924, 71.61421239, 36.9856706 ],\n",
       "       [44.45979847, 55.66488195, 45.10637765, 68.51603533, 34.86608656],\n",
       "       [42.01120717, 52.7212214 , 42.74381907, 65.23008832, 32.52210715],\n",
       "       [39.63347988, 49.80444976, 40.24393238, 61.70561559, 30.16171995],\n",
       "       [37.33491024, 46.97996497, 37.82192593, 58.28781846, 27.87245958],\n",
       "       [35.11997988, 44.17115593, 35.49026958, 54.98461065, 25.70194142],\n",
       "       [32.89267185, 41.44439424, 33.24763596, 51.76612406, 23.65275152],\n",
       "       [30.73382724, 38.84749562, 30.93696178, 48.57214374, 21.72634752],\n",
       "       [28.68355463, 36.38119422, 28.72657415, 45.48975075, 19.92309435],\n",
       "       [26.70773351, 34.04521632, 26.64750789, 42.5535652 , 18.24231415],\n",
       "       [24.83136154, 31.83835427, 24.69785374, 39.77831556, 16.63865739],\n",
       "       [23.07205343, 29.75855176, 22.87486273, 37.1621241 , 15.14630319],\n",
       "       [21.42662439, 27.80299732, 21.17504885, 34.70208787, 13.78089758],\n",
       "       [19.89131418, 25.96838138, 19.59429659, 32.39439704, 12.53689539],\n",
       "       [18.46200872, 24.25030088, 18.12813397, 30.23472007, 11.40821626],\n",
       "       [17.13379544, 22.64444254, 16.7711423 , 28.21723939, 10.38846012],\n",
       "       [15.90190394, 21.14595708, 15.51813251, 26.33641519,  9.47061686],\n",
       "       [14.76122332, 19.74973227, 14.3635337 , 24.58603362,  8.64783997],\n",
       "       [13.70652524, 18.45047992, 13.3016604 , 22.95958309,  7.91309647],\n",
       "       [12.73253705, 17.24273699, 12.32679579, 21.45036062,  7.25937609],\n",
       "       [11.83391265, 16.12107546, 11.43326535, 20.051594  ,  6.67977427],\n",
       "       [11.00556329, 15.08016724, 10.61533368, 18.75625858,  6.16748323],\n",
       "       [10.24243452, 14.11473551,  9.86778829, 17.55775122,  5.71611303],\n",
       "       [ 9.53965132, 13.21964207,  9.18538665, 16.44946977,  5.31944784],\n",
       "       [ 8.89233826, 12.38992257,  8.5631813 , 15.42500147,  4.97162309],\n",
       "       [ 8.29635749, 11.62022265,  7.99622263, 14.47816513,  4.66699979],\n",
       "       [ 7.74738851, 10.90699837,  7.4805616 , 13.60252962,  4.40067738],\n",
       "       [ 7.24148081, 10.24557447,  7.01195769, 12.79330518,  4.16783053],\n",
       "       [ 6.7746743 ,  9.63136759,  6.58637577, 12.04487899,  3.96411544],\n",
       "       [ 6.34404178,  9.06158719,  6.20082021, 11.35177618,  3.78544739],\n",
       "       [ 5.94620368,  8.53233124,  5.85195321, 10.71022517,  3.62853265],\n",
       "       [ 5.57800512,  8.03981962,  5.53665682, 10.11557497,  3.49005108],\n",
       "       [ 5.23727008,  7.58204951,  5.25283088,  9.56334938,  3.36707308],\n",
       "       [ 4.92114839,  7.1558428 ,  4.99795603,  9.05081124,  3.25731027],\n",
       "       [ 4.62785201,  6.75819432,  4.76973417,  8.57421661,  3.15840321],\n",
       "       [ 4.35519459,  6.38775156,  4.56677085,  8.13005093,  3.06863009],\n",
       "       [ 4.1012383 ,  6.04159406,  4.38704214,  7.71643494,  2.98796327],\n",
       "       [ 3.86469393,  5.71859843,  4.22944869,  7.3300658 ,  2.92994936],\n",
       "       [ 3.64385263,  5.4163582 ,  4.09238647,  6.96942089,  2.87570315],\n",
       "       [ 3.43766218,  5.1339484 ,  3.97498036,  6.63209028,  2.82430499],\n",
       "       [ 3.24483364,  4.86963671,  3.87605339,  6.31596767,  2.77491894],\n",
       "       [ 3.06433609,  4.62339343,  3.79455588,  6.01996983,  2.73149978],\n",
       "       [ 2.89389658,  4.39995939,  3.73993397,  5.74213928,  2.69164865],\n",
       "       [ 2.73376969,  4.19337312,  3.70129879,  5.48155224,  2.65273061],\n",
       "       [ 2.58472812,  4.00078846,  3.67736141,  5.23665652,  2.61389958],\n",
       "       [ 2.45401473,  3.82063533,  3.66705578,  5.02856207,  2.57508764],\n",
       "       [ 2.34688121,  3.65229213,  3.67013397,  4.835797  ,  2.53639453],\n",
       "       [ 2.24768045,  3.49441355,  3.68718206,  4.65620484,  2.49718102],\n",
       "       [ 2.15521648,  3.34649125,  3.71552207,  4.48746458,  2.45792431],\n",
       "       [ 2.06942012,  3.20819663,  3.75620553,  4.32878322,  2.41811177],\n",
       "       [ 1.9893159 ,  3.07829227,  3.80970655,  4.17991808,  2.37804693],\n",
       "       [ 1.91492086,  2.95684987,  3.8716756 ,  4.03930307,  2.33806233],\n",
       "       [ 1.8453878 ,  2.84276621,  3.93931878,  3.90725931,  2.29774828],\n",
       "       [ 1.78078784,  2.73615709,  4.01416726,  3.78239263,  2.2577145 ],\n",
       "       [ 1.72056302,  2.6356047 ,  4.09628884,  3.66508329,  2.22071591],\n",
       "       [ 1.66442707,  2.54143835,  4.18446316,  3.55444592,  2.18577555],\n",
       "       [ 1.61170711,  2.45324056,  4.27812632,  3.44896615,  2.15128317],\n",
       "       [ 1.56186344,  2.37531888,  4.37653297,  3.34641734,  2.1171984 ],\n",
       "       [ 1.51412447,  2.30408583,  4.47897355,  3.25004982,  2.08362897],\n",
       "       [ 1.47063234,  2.23581845,  4.57552757,  3.16038831,  2.04424182],\n",
       "       [ 1.43158093,  2.15884439,  4.66635439,  3.07740263,  1.99277812],\n",
       "       [ 1.38670109,  2.08708068,  4.76138869,  2.99267119,  1.94387496],\n",
       "       [ 1.32669421,  2.02036523,  4.85998147,  2.89779073,  1.89725682],\n",
       "       [ 1.27147637,  1.95827766,  4.95858986,  2.8089245 ,  1.85291546],\n",
       "       [ 1.21992778,  1.90077501,  5.05868757,  2.72594492,  1.81081982],\n",
       "       [ 1.17271397,  1.84735517,  5.16003094,  2.64912408,  1.77082158],\n",
       "       [ 1.12939168,  1.7979268 ,  5.26220858,  2.57769783,  1.73309163],\n",
       "       [ 1.0897797 ,  1.75206198,  5.36468271,  2.51180791,  1.69714876],\n",
       "       [ 1.05368251,  1.70965527,  5.46712928,  2.45065863,  1.66298454],\n",
       "       [ 1.02066366,  1.67034472,  5.56874839,  2.39429217,  1.63079452],\n",
       "       [ 0.99062644,  1.63396809,  5.66929906,  2.34202744,  1.60062846],\n",
       "       [ 0.96303054,  1.6003184 ,  5.76871305,  2.29387239,  1.57232843],\n",
       "       [ 0.9377741 ,  1.56919739,  5.86730285,  2.24925096,  1.54575346],\n",
       "       [ 0.91481163,  1.54041937,  5.96363416,  2.2019168 ,  1.51409265],\n",
       "       [ 0.89385186,  1.51381051,  6.05777044,  2.15733103,  1.48397241],\n",
       "       [ 0.87480175,  1.48920836,  6.14938458,  2.11618587,  1.45598305],\n",
       "       [ 0.85761577,  1.46646137,  6.2381622 ,  2.07823542,  1.42993963],\n",
       "       [ 0.84221443,  1.4454284 ,  6.32470728,  2.04323413,  1.40574082],\n",
       "       [ 0.82821771,  1.42596312,  6.40878333,  2.01094405,  1.38329246],\n",
       "       [ 0.81543974,  1.40801642,  6.4906748 ,  1.98119904,  1.36243519],\n",
       "       [ 0.80382012,  1.39163228,  6.57331952,  1.9538312 ,  1.34309649],\n",
       "       [ 0.79320947,  1.37646286,  6.65279573,  1.92873315,  1.32514037],\n",
       "       [ 0.78365205,  1.36263752,  6.72863755,  1.90659637,  1.30740755],\n",
       "       [ 0.77588957,  1.35018872,  6.79756451,  1.88613543,  1.29014784],\n",
       "       [ 0.7688181 ,  1.33867291,  6.8624829 ,  1.86724815,  1.27470347],\n",
       "       [ 0.76235212,  1.32800961,  6.92444318,  1.84979942,  1.26052013],\n",
       "       [ 0.7564682 ,  1.31809584,  6.98349162,  1.83366998,  1.24737606],\n",
       "       [ 0.75110764,  1.30893241,  7.03968319,  1.81875172,  1.23517456],\n",
       "       [ 0.7462216 ,  1.30044949,  7.09308608,  1.80494571,  1.22390499],\n",
       "       [ 0.74176841,  1.29254573,  7.14377758,  1.79216122,  1.21346156],\n",
       "       [ 0.737711  ,  1.28525137,  7.19184159,  1.78031511,  1.20382722],\n",
       "       [ 0.73403215,  1.27858905,  7.23731936,  1.77043299,  1.19491926],\n",
       "       [ 0.73067564,  1.27270475,  7.28036294,  1.75911393,  1.18670278],\n",
       "       [ 0.72761962,  1.2671447 ,  7.32107609,  1.75070175,  1.17911011],\n",
       "       [ 0.72485661,  1.26218181,  7.35950062,  1.74086198,  1.17211553],\n",
       "       [ 0.72244549,  1.25748683,  7.39552429,  1.73385161,  1.16567292]])"
      ]
     },
     "execution_count": 65,
     "metadata": {},
     "output_type": "execute_result"
    }
   ],
   "source": [
    "elasticnetcv.mse_path_"
   ]
  },
  {
   "cell_type": "markdown",
   "id": "04ea2ee7",
   "metadata": {},
   "source": [
    "## Pickling"
   ]
  },
  {
   "cell_type": "code",
   "execution_count": 66,
   "id": "eeb856bd",
   "metadata": {},
   "outputs": [],
   "source": [
    "import pickle\n",
    "\n",
    "pickle.dump(scaler, open(\"../models/scaler.pkl\", \"wb\"))\n",
    "pickle.dump(ridge, open(\"../models/regressor.pkl\", \"wb\"))"
   ]
  },
  {
   "cell_type": "code",
   "execution_count": null,
   "id": "bf4e9d32",
   "metadata": {},
   "outputs": [],
   "source": []
  }
 ],
 "metadata": {
  "kernelspec": {
   "display_name": "Python 3",
   "language": "python",
   "name": "python3"
  },
  "language_info": {
   "codemirror_mode": {
    "name": "ipython",
    "version": 3
   },
   "file_extension": ".py",
   "mimetype": "text/x-python",
   "name": "python",
   "nbconvert_exporter": "python",
   "pygments_lexer": "ipython3",
   "version": "3.10.2"
  }
 },
 "nbformat": 4,
 "nbformat_minor": 5
}
